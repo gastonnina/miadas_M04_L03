{
 "cells": [
  {
   "cell_type": "markdown",
   "id": "688652d1-147e-47d4-8a38-0cfe0d862045",
   "metadata": {},
   "source": [
    "# Práctica 3: Aplicación de Business Intelligence y Minería de Datos"
   ]
  },
  {
   "cell_type": "markdown",
   "id": "586412d4-aa47-4432-bad5-71b9ca976ca7",
   "metadata": {},
   "source": [
    "# 1. Carga y Exploración del Dataset"
   ]
  },
  {
   "cell_type": "code",
   "execution_count": 15,
   "id": "5c0cd51d-b4f5-40df-a5a3-66042655452f",
   "metadata": {},
   "outputs": [
    {
     "data": {
      "text/html": [
       "<div>\n",
       "<style scoped>\n",
       "    .dataframe tbody tr th:only-of-type {\n",
       "        vertical-align: middle;\n",
       "    }\n",
       "\n",
       "    .dataframe tbody tr th {\n",
       "        vertical-align: top;\n",
       "    }\n",
       "\n",
       "    .dataframe thead th {\n",
       "        text-align: right;\n",
       "    }\n",
       "</style>\n",
       "<table border=\"1\" class=\"dataframe\">\n",
       "  <thead>\n",
       "    <tr style=\"text-align: right;\">\n",
       "      <th></th>\n",
       "      <th>archivo</th>\n",
       "      <th>contenido</th>\n",
       "    </tr>\n",
       "  </thead>\n",
       "  <tbody>\n",
       "    <tr>\n",
       "      <th>0</th>\n",
       "      <td>62c15d490d06be2313e5d4840c570dbf9095172e.txt</td>\n",
       "      <td>From: stssdxb@st.unocal.com (Dorin Baru)\\nSubj...</td>\n",
       "    </tr>\n",
       "    <tr>\n",
       "      <th>1</th>\n",
       "      <td>5e2afa5a50c89fbdd863bd9851c978e6021d361a.txt</td>\n",
       "      <td>From: scott@psy.uwa.oz.au (Scott Fisher)\\nSubj...</td>\n",
       "    </tr>\n",
       "    <tr>\n",
       "      <th>2</th>\n",
       "      <td>b244e3c38e9146ec260943784fa0c05bfec86503.txt</td>\n",
       "      <td>From: abou@dam.cee.clarkson.edu (Abou Bakr,Dam...</td>\n",
       "    </tr>\n",
       "    <tr>\n",
       "      <th>3</th>\n",
       "      <td>063e0232997ddffa9ad7648d4b0ab2778e9a026e.txt</td>\n",
       "      <td>From: noye@midway.uchicago.edu (vera shanti no...</td>\n",
       "    </tr>\n",
       "    <tr>\n",
       "      <th>4</th>\n",
       "      <td>01627f1c2797f307ee229359e54509470b0b647c.txt</td>\n",
       "      <td>From: ryan_cousineau@compdyn.questor.org (Ryan...</td>\n",
       "    </tr>\n",
       "  </tbody>\n",
       "</table>\n",
       "</div>"
      ],
      "text/plain": [
       "                                        archivo  \\\n",
       "0  62c15d490d06be2313e5d4840c570dbf9095172e.txt   \n",
       "1  5e2afa5a50c89fbdd863bd9851c978e6021d361a.txt   \n",
       "2  b244e3c38e9146ec260943784fa0c05bfec86503.txt   \n",
       "3  063e0232997ddffa9ad7648d4b0ab2778e9a026e.txt   \n",
       "4  01627f1c2797f307ee229359e54509470b0b647c.txt   \n",
       "\n",
       "                                           contenido  \n",
       "0  From: stssdxb@st.unocal.com (Dorin Baru)\\nSubj...  \n",
       "1  From: scott@psy.uwa.oz.au (Scott Fisher)\\nSubj...  \n",
       "2  From: abou@dam.cee.clarkson.edu (Abou Bakr,Dam...  \n",
       "3  From: noye@midway.uchicago.edu (vera shanti no...  \n",
       "4  From: ryan_cousineau@compdyn.questor.org (Ryan...  "
      ]
     },
     "execution_count": 15,
     "metadata": {},
     "output_type": "execute_result"
    }
   ],
   "source": [
    "import os\n",
    "import pandas as pd\n",
    "\n",
    "# Leer todos los archivos de la carpeta 'emails'\n",
    "ruta = \"emails/\"\n",
    "documentos = []\n",
    "nombres = []\n",
    "\n",
    "for archivo in os.listdir(ruta):\n",
    "    if archivo.endswith(\".txt\"):\n",
    "        with open(os.path.join(ruta, archivo), 'r', encoding='utf-8', errors='ignore') as f:\n",
    "            documentos.append(f.read())\n",
    "            nombres.append(archivo)\n",
    "\n",
    "df_original = pd.DataFrame({'archivo': nombres, 'contenido': documentos})\n",
    "df_original.head()"
   ]
  },
  {
   "cell_type": "code",
   "execution_count": 16,
   "id": "1a135ed2-4c98-47fd-b7e5-f6672c4d2392",
   "metadata": {},
   "outputs": [],
   "source": [
    "# copiamos del original para trabajar\n",
    "df = df_original.copy()"
   ]
  },
  {
   "cell_type": "markdown",
   "id": "0204a512-461d-4dfe-9886-093cf800fec4",
   "metadata": {},
   "source": [
    "# 2. Exploración Inicial"
   ]
  },
  {
   "cell_type": "code",
   "execution_count": 11,
   "id": "5f5b8a50-f571-4bf6-878c-4a2b5d6a0871",
   "metadata": {},
   "outputs": [
    {
     "name": "stdout",
     "output_type": "stream",
     "text": [
      "Número total de documentos: 18828\n",
      "Longitud promedio del texto: 1801.11\n"
     ]
    },
    {
     "data": {
      "text/plain": [
       "array(['From: garrett@Ingres.COM (GREP A FRIEND)\\nSubject: Re: Bush\\'s WI \\n\\nIn article <1qt61e$d7e@usenet.INS.CWRU.Edu>, an030@cleveland.Freenet.Edu (B writes...\\n>In a previous article, garrett@Ingres.COM (THE SKY ALREADY FELL. NOW WHAT?) says:\\n>>In article <9304161803.AA23713@inet-gw-2.pa.dec.com>, blh@uiboise.idbsu.edu (Broward L. Horne)         writes...\\n>>>\\tI strongly urge you to consider moving any savings you \\n>>>\\thave overseas, into protected bank accounts, while \\n>>>\\tyou are still able.\\n>>> \\n>>Have you?\\n> \\n>        Went to the Post Office on Friday, got my passport apps in.\\n>        My savings have already been converted.\\n> \\nBye.\\n> \\n\\n------------------------------------------------------------------------------\\n\"Nothing is as inevitable as a mistake whose time has          Garrett Johnson\\n come.\" --Tussman                                           Garrett@Ingres.com\\n\"The probability of someone watching you is proportional\\nto the stupidity of your action.\" - Unknown\\n------------------------------------------------------------------------------\\n',\n",
       "       \"From: xepo@csd4.csd.uwm.edu (Scott R Violet)\\nSubject: Looking for code to brake image into sub-bands\\n\\n\\nHi all,\\n\\tI am working on a project in which I need to brake an image\\ninto sub-bands and then work with them.  Since I have never done\\nanything like this, don't even understand the concept of sub-bands, I\\nwas wondering if there is some software out there that would allow me\\nto do this.  Any hints?\\nThanks,\\n-- \\n\\n\\t\\t-Scott Violet (xepo@csd4.csd.uwm.edu)\\n\",\n",
       "       'From: healta@saturn.wwc.edu (Tammy R Healy)\\nSubject: Re: free moral agency and Jeff Clark\\n\\nIn article <16BB112DFC.I3150101@dbstu1.rz.tu-bs.de> I3150101@dbstu1.rz.tu-bs.de (Benedikt Rosenau) writes:\\n>From: I3150101@dbstu1.rz.tu-bs.de (Benedikt Rosenau)\\n>Subject: Re: free moral agency and Jeff Clark\\n>Date: Thu, 15 Apr 1993 20:28:27 GMT\\n>In article <healta.136.734813153@saturn.wwc.edu>\\n>healta@saturn.wwc.edu (TAMMY R HEALY) writes:\\n> \\n>(Deletion)\\n>>You also said,\"Why did millions suffer for what Adam and Ee did?  Seems a\\n>>pretty sick way of going about creating a universe...\"\\n>>\\n>>I\\'m gonna respond by giving a small theology lesson--forgive me, I used\\n>>to be a theology major.\\n>>First of all, I believe that this planet is involved in a cosmic struggle--\\n>>\"the Great Controversy betweed Christ and Satan\" (i borrowed a book title).\\n>>God has to consider the interests of the entire universe when making\\n>>decisions.\\n>(Deletion)\\n> \\n>An universe it has created. By the way, can you tell me why it is less\\n>tyrannic to let one of one\\'s own creatures do what it likes to others?\\n>By your definitions, your god has created Satan with full knowledge what\\n>would happen - including every choice of Satan.\\n> \\n>Can you explain us what Free Will is, and how it goes along with omniscience?\\n>Didn\\'t your god know everything that would happen even before it created the\\n>world? Why is it concerned about being a tyrant when noone would care if\\n>everything was fine for them? That the whole idea comes from the possibility\\n>to abuse power, something your god introduced according to your description?\\n> \\n> \\n>By the way, are you sure that you have read the FAQ? Especially the part\\n>about preaching?\\n>   Benedikt\\n\\nI don\\'t feel that I\\'m preaching. I\\'m just trying to answer people\\'s \\nquestions and talking about my religion, my beliefs.\\nWhen it comes to what I post, I don\\'t do it with the intent of converting \\nanyone.  I don\\'t expect for the atheists in this newsgroup to take what I \\nsay with a grain of salt if they so wish.\\nI just state what I beleve, they ask me how I believeit and why and we all \\ngo on. \\nIf that\\'s preaching, then I\\'m soory and I\\'ll get off the soapbox.\\n\\nTammy\\n\\n  \\n'],\n",
       "      dtype=object)"
      ]
     },
     "execution_count": 11,
     "metadata": {},
     "output_type": "execute_result"
    }
   ],
   "source": [
    "# Número total de documentos\n",
    "print(f\"Número total de documentos: {len(df)}\")\n",
    "\n",
    "# Longitud promedio\n",
    "df['longitud'] = df['contenido'].apply(len)\n",
    "print(f\"Longitud promedio del texto: {df['longitud'].mean():.2f}\")\n",
    "\n",
    "# Ejemplos de textos\n",
    "df['contenido'].sample(3).values"
   ]
  },
  {
   "cell_type": "code",
   "execution_count": 17,
   "id": "ac943159-9f09-4db2-94c1-b0eb99f4d204",
   "metadata": {},
   "outputs": [
    {
     "data": {
      "text/html": [
       "<div>\n",
       "<style scoped>\n",
       "    .dataframe tbody tr th:only-of-type {\n",
       "        vertical-align: middle;\n",
       "    }\n",
       "\n",
       "    .dataframe tbody tr th {\n",
       "        vertical-align: top;\n",
       "    }\n",
       "\n",
       "    .dataframe thead th {\n",
       "        text-align: right;\n",
       "    }\n",
       "</style>\n",
       "<table border=\"1\" class=\"dataframe\">\n",
       "  <thead>\n",
       "    <tr style=\"text-align: right;\">\n",
       "      <th></th>\n",
       "      <th>archivo</th>\n",
       "      <th>from</th>\n",
       "      <th>subject</th>\n",
       "      <th>es_respuesta</th>\n",
       "      <th>body</th>\n",
       "      <th>tiene_cita</th>\n",
       "      <th>nivel_maximo_cita</th>\n",
       "    </tr>\n",
       "  </thead>\n",
       "  <tbody>\n",
       "    <tr>\n",
       "      <th>0</th>\n",
       "      <td>62c15d490d06be2313e5d4840c570dbf9095172e.txt</td>\n",
       "      <td>stssdxb@st.unocal.com (Dorin Baru)</td>\n",
       "      <td>Re: was:Go Hezbollah!</td>\n",
       "      <td>True</td>\n",
       "      <td>(Brad Hernlem writes:\\n\\n\\n&gt;Well, you should h...</td>\n",
       "      <td>True</td>\n",
       "      <td>1</td>\n",
       "    </tr>\n",
       "    <tr>\n",
       "      <th>1</th>\n",
       "      <td>5e2afa5a50c89fbdd863bd9851c978e6021d361a.txt</td>\n",
       "      <td>scott@psy.uwa.oz.au (Scott Fisher)</td>\n",
       "      <td>Re: Manual Shift Bigots</td>\n",
       "      <td>True</td>\n",
       "      <td>jahonen@cc.lut.fi (Jarmo Ahonen) writes:\\n\\n&gt;k...</td>\n",
       "      <td>True</td>\n",
       "      <td>2</td>\n",
       "    </tr>\n",
       "    <tr>\n",
       "      <th>2</th>\n",
       "      <td>b244e3c38e9146ec260943784fa0c05bfec86503.txt</td>\n",
       "      <td>abou@dam.cee.clarkson.edu (Abou Bakr,Damon 317...</td>\n",
       "      <td>Re: Forsale and Wanted (HD/Fax/Typewriter)</td>\n",
       "      <td>True</td>\n",
       "      <td>From article &lt;1pf5qe$b3b@seven-up.East.Sun.COM...</td>\n",
       "      <td>True</td>\n",
       "      <td>1</td>\n",
       "    </tr>\n",
       "    <tr>\n",
       "      <th>3</th>\n",
       "      <td>063e0232997ddffa9ad7648d4b0ab2778e9a026e.txt</td>\n",
       "      <td>noye@midway.uchicago.edu (vera shanti noyes)</td>\n",
       "      <td>Re: Am I going to Hell?</td>\n",
       "      <td>True</td>\n",
       "      <td>In article &lt;Apr.24.01.09.10.1993.4254@geneva.r...</td>\n",
       "      <td>True</td>\n",
       "      <td>1</td>\n",
       "    </tr>\n",
       "    <tr>\n",
       "      <th>4</th>\n",
       "      <td>01627f1c2797f307ee229359e54509470b0b647c.txt</td>\n",
       "      <td>ryan_cousineau@compdyn.questor.org (Ryan Cousi...</td>\n",
       "      <td>Boom! Dog attack!</td>\n",
       "      <td>False</td>\n",
       "      <td>My previous posting on dog attacks must have g...</td>\n",
       "      <td>False</td>\n",
       "      <td>0</td>\n",
       "    </tr>\n",
       "  </tbody>\n",
       "</table>\n",
       "</div>"
      ],
      "text/plain": [
       "                                        archivo  \\\n",
       "0  62c15d490d06be2313e5d4840c570dbf9095172e.txt   \n",
       "1  5e2afa5a50c89fbdd863bd9851c978e6021d361a.txt   \n",
       "2  b244e3c38e9146ec260943784fa0c05bfec86503.txt   \n",
       "3  063e0232997ddffa9ad7648d4b0ab2778e9a026e.txt   \n",
       "4  01627f1c2797f307ee229359e54509470b0b647c.txt   \n",
       "\n",
       "                                                from  \\\n",
       "0                 stssdxb@st.unocal.com (Dorin Baru)   \n",
       "1                 scott@psy.uwa.oz.au (Scott Fisher)   \n",
       "2  abou@dam.cee.clarkson.edu (Abou Bakr,Damon 317...   \n",
       "3       noye@midway.uchicago.edu (vera shanti noyes)   \n",
       "4  ryan_cousineau@compdyn.questor.org (Ryan Cousi...   \n",
       "\n",
       "                                      subject  es_respuesta  \\\n",
       "0                       Re: was:Go Hezbollah!          True   \n",
       "1                     Re: Manual Shift Bigots          True   \n",
       "2  Re: Forsale and Wanted (HD/Fax/Typewriter)          True   \n",
       "3                     Re: Am I going to Hell?          True   \n",
       "4                           Boom! Dog attack!         False   \n",
       "\n",
       "                                                body  tiene_cita  \\\n",
       "0  (Brad Hernlem writes:\\n\\n\\n>Well, you should h...        True   \n",
       "1  jahonen@cc.lut.fi (Jarmo Ahonen) writes:\\n\\n>k...        True   \n",
       "2  From article <1pf5qe$b3b@seven-up.East.Sun.COM...        True   \n",
       "3  In article <Apr.24.01.09.10.1993.4254@geneva.r...        True   \n",
       "4  My previous posting on dog attacks must have g...       False   \n",
       "\n",
       "   nivel_maximo_cita  \n",
       "0                  1  \n",
       "1                  2  \n",
       "2                  1  \n",
       "3                  1  \n",
       "4                  0  "
      ]
     },
     "execution_count": 17,
     "metadata": {},
     "output_type": "execute_result"
    }
   ],
   "source": [
    "# dividimos en columnas para tener el compo body limpio\n",
    "import re\n",
    "\n",
    "def parse_email(texto):\n",
    "    # Extraer campo From\n",
    "    match_from = re.search(r'^From:\\s*(.*)', texto, re.MULTILINE)\n",
    "    from_ = match_from.group(1).strip() if match_from else None\n",
    "\n",
    "    # Extraer campo Subject\n",
    "    match_subject = re.search(r'^Subject:\\s*(.*)', texto, re.MULTILINE)\n",
    "    subject = match_subject.group(1).strip() if match_subject else None\n",
    "\n",
    "    # Determinar si es respuesta\n",
    "    es_respuesta = subject.lower().startswith(\"re:\") if subject else False\n",
    "\n",
    "    # Eliminar encabezados (todo hasta la primera línea vacía)\n",
    "    body = re.split(r'\\n\\s*\\n', texto, maxsplit=1)\n",
    "    body = body[1].strip() if len(body) > 1 else texto\n",
    "\n",
    "    # 5. Dividir el cuerpo en líneas\n",
    "    lineas = body.splitlines()\n",
    "\n",
    "    # 6. Marcar si cada línea es una cita (empieza con al menos un '>')\n",
    "    niveles_cita = [len(re.match(r'^(>+)', linea).group(1)) if re.match(r'^(>+)', linea) else 0 for linea in lineas]\n",
    "\n",
    "    # 7. ¿El correo tiene al menos una cita?\n",
    "    tiene_cita = any(n > 0 for n in niveles_cita)\n",
    "\n",
    "    # 8. Nivel máximo de citas encontradas\n",
    "    nivel_maximo_cita = max(niveles_cita) if niveles_cita else 0\n",
    "    \n",
    "    return pd.Series([from_, subject, es_respuesta, body, tiene_cita, nivel_maximo_cita])\n",
    "\n",
    "# Aplicamos al DataFrame original\n",
    "df[['from', 'subject', 'es_respuesta', 'body', 'tiene_cita', 'nivel_maximo_cita']] = df['contenido'].apply(parse_email)\n",
    "df = df.drop(columns=['contenido'])  # opcional\n",
    "df.head()\n"
   ]
  },
  {
   "cell_type": "code",
   "execution_count": 22,
   "id": "84bacdbd-5b44-45ec-bb33-be7c84ca4734",
   "metadata": {},
   "outputs": [
    {
     "name": "stdout",
     "output_type": "stream",
     "text": [
      "Distribución de correos que son respuesta (Re:):\n",
      "es_respuesta\n",
      "True     12350\n",
      "False     6478\n",
      "Name: count, dtype: int64\n",
      "\n",
      "Porcentaje de correos que contienen al menos una cita: 50.49%\n"
     ]
    },
    {
     "data": {
      "image/png": "[encoded data removed]",
      "text/plain": [
       "<Figure size 640x480 with 1 Axes>"
      ]
     },
     "metadata": {},
     "output_type": "display_data"
    }
   ],
   "source": [
    "# Distribución de respuestas\n",
    "print(\"Distribución de correos que son respuesta (Re:):\")\n",
    "print(df['es_respuesta'].value_counts())\n",
    "\n",
    "# Correos que contienen citas\n",
    "print(f\"\\nPorcentaje de correos que contienen al menos una cita: {df['tiene_cita'].mean() * 100:.2f}%\")\n",
    "\n",
    "# Histograma del nivel máximo de cita\n",
    "import matplotlib.pyplot as plt\n",
    "\n",
    "df['nivel_maximo_cita'].hist(bins=range(0, df['nivel_maximo_cita'].max()+2))\n",
    "plt.title(\"Distribución de niveles máximos de cita\")\n",
    "plt.xlabel(\"Nivel de cita\")\n",
    "plt.ylabel(\"Cantidad de correos\")\n",
    "plt.show()\n"
   ]
  },
  {
   "cell_type": "code",
   "execution_count": 23,
   "id": "a714166d-9774-4568-9ed1-ae1d7617a330",
   "metadata": {},
   "outputs": [
    {
     "data": {
      "image/png": "[encoded data removed]",
      "text/plain": [
       "<Figure size 1000x400 with 2 Axes>"
      ]
     },
     "metadata": {},
     "output_type": "display_data"
    }
   ],
   "source": [
    "import matplotlib.pyplot as plt\n",
    "\n",
    "# Filtrar niveles razonables (e.g. hasta 10)\n",
    "niveles_filtrados = df[df['nivel_maximo_cita'] <= 10]['nivel_maximo_cita']\n",
    "\n",
    "plt.figure(figsize=(10, 4))\n",
    "\n",
    "# Histograma\n",
    "plt.subplot(1, 2, 1)\n",
    "niveles_filtrados.hist(bins=range(0, 12))\n",
    "plt.title(\"Histograma (niveles ≤ 10)\")\n",
    "plt.xlabel(\"Nivel de cita\")\n",
    "plt.ylabel(\"Cantidad de correos\")\n",
    "\n",
    "# Boxplot\n",
    "plt.subplot(1, 2, 2)\n",
    "plt.boxplot(niveles_filtrados, vert=False)\n",
    "plt.title(\"Boxplot (niveles ≤ 10)\")\n",
    "plt.xlabel(\"Nivel de cita\")\n",
    "\n",
    "plt.tight_layout()\n",
    "plt.show()\n"
   ]
  },
  {
   "cell_type": "markdown",
   "id": "5810131f-15a8-4f04-8033-4f92b5c0d34c",
   "metadata": {},
   "source": [
    "# 3. Preprocesamiento de Texto"
   ]
  },
  {
   "cell_type": "markdown",
   "id": "0970cc6a-8e10-4319-a070-c0ff98af21c6",
   "metadata": {},
   "source": [
    "Agregamos libreria NLTK que es una libreria con lenguaje humano que nos ayudara a analizar texto"
   ]
  },
  {
   "cell_type": "code",
   "execution_count": 5,
   "id": "8aacc901-7b1e-4eda-9100-d15c4ce7fa7c",
   "metadata": {},
   "outputs": [
    {
     "name": "stdout",
     "output_type": "stream",
     "text": [
      "Defaulting to user installation because normal site-packages is not writeable\n",
      "Requirement already satisfied: nltk in /home/gaston/.local/lib/python3.10/site-packages (3.9.1)\n",
      "Requirement already satisfied: click in /home/gaston/.local/lib/python3.10/site-packages (from nltk) (8.1.8)\n",
      "Requirement already satisfied: joblib in /home/gaston/.local/lib/python3.10/site-packages (from nltk) (1.4.2)\n",
      "Requirement already satisfied: regex>=2021.8.3 in /home/gaston/.local/lib/python3.10/site-packages (from nltk) (2024.11.6)\n",
      "Requirement already satisfied: tqdm in /home/gaston/.local/lib/python3.10/site-packages (from nltk) (4.67.1)\n"
     ]
    }
   ],
   "source": [
    "!pip install nltk"
   ]
  },
  {
   "cell_type": "code",
   "execution_count": 18,
   "id": "ef76426b-d081-4b88-bbfd-911d8c14ff3a",
   "metadata": {},
   "outputs": [
    {
     "name": "stderr",
     "output_type": "stream",
     "text": [
      "[nltk_data] Downloading package punkt to /home/gaston/nltk_data...\n",
      "[nltk_data]   Package punkt is already up-to-date!\n",
      "[nltk_data] Downloading package stopwords to /home/gaston/nltk_data...\n",
      "[nltk_data]   Package stopwords is already up-to-date!\n",
      "[nltk_data] Downloading package punkt_tab to /home/gaston/nltk_data...\n",
      "[nltk_data]   Package punkt_tab is already up-to-date!\n"
     ]
    },
    {
     "data": {
      "text/html": [
       "<div>\n",
       "<style scoped>\n",
       "    .dataframe tbody tr th:only-of-type {\n",
       "        vertical-align: middle;\n",
       "    }\n",
       "\n",
       "    .dataframe tbody tr th {\n",
       "        vertical-align: top;\n",
       "    }\n",
       "\n",
       "    .dataframe thead th {\n",
       "        text-align: right;\n",
       "    }\n",
       "</style>\n",
       "<table border=\"1\" class=\"dataframe\">\n",
       "  <thead>\n",
       "    <tr style=\"text-align: right;\">\n",
       "      <th></th>\n",
       "      <th>archivo</th>\n",
       "      <th>texto_limpio</th>\n",
       "    </tr>\n",
       "  </thead>\n",
       "  <tbody>\n",
       "    <tr>\n",
       "      <th>0</th>\n",
       "      <td>62c15d490d06be2313e5d4840c570dbf9095172e.txt</td>\n",
       "      <td>brad hernlem write well note cheer attack isra...</td>\n",
       "    </tr>\n",
       "    <tr>\n",
       "      <th>1</th>\n",
       "      <td>5e2afa5a50c89fbdd863bd9851c978e6021d361a.txt</td>\n",
       "      <td>jahonen jarmo ahonen write kissan john kissan ...</td>\n",
       "    </tr>\n",
       "    <tr>\n",
       "      <th>2</th>\n",
       "      <td>b244e3c38e9146ec260943784fa0c05bfec86503.txt</td>\n",
       "      <td>articl jorg jorg lach sun bos hardwar look buy...</td>\n",
       "    </tr>\n",
       "    <tr>\n",
       "      <th>3</th>\n",
       "      <td>063e0232997ddffa9ad7648d4b0ab2778e9a026e.txt</td>\n",
       "      <td>articl stoney stanley toney write muslim fear ...</td>\n",
       "    </tr>\n",
       "    <tr>\n",
       "      <th>4</th>\n",
       "      <td>01627f1c2797f307ee229359e54509470b0b647c.txt</td>\n",
       "      <td>previous post dog attack must generat bad karm...</td>\n",
       "    </tr>\n",
       "  </tbody>\n",
       "</table>\n",
       "</div>"
      ],
      "text/plain": [
       "                                        archivo  \\\n",
       "0  62c15d490d06be2313e5d4840c570dbf9095172e.txt   \n",
       "1  5e2afa5a50c89fbdd863bd9851c978e6021d361a.txt   \n",
       "2  b244e3c38e9146ec260943784fa0c05bfec86503.txt   \n",
       "3  063e0232997ddffa9ad7648d4b0ab2778e9a026e.txt   \n",
       "4  01627f1c2797f307ee229359e54509470b0b647c.txt   \n",
       "\n",
       "                                        texto_limpio  \n",
       "0  brad hernlem write well note cheer attack isra...  \n",
       "1  jahonen jarmo ahonen write kissan john kissan ...  \n",
       "2  articl jorg jorg lach sun bos hardwar look buy...  \n",
       "3  articl stoney stanley toney write muslim fear ...  \n",
       "4  previous post dog attack must generat bad karm...  "
      ]
     },
     "execution_count": 18,
     "metadata": {},
     "output_type": "execute_result"
    }
   ],
   "source": [
    "import nltk\n",
    "import string\n",
    "from nltk.corpus import stopwords\n",
    "from nltk.stem import SnowballStemmer\n",
    "from nltk.tokenize import word_tokenize\n",
    "\n",
    "nltk.download('punkt') # un tokenizador pre-entrenado.\n",
    "nltk.download('stopwords') # identificador se refiere a una lista de palabras vacías (stopwords) en varios idiomas\n",
    "nltk.download('punkt_tab') # identificador se refiere a un modelo adicional para el tokenizador \"punkt\"\n",
    "\n",
    "stop_words = set(stopwords.words('english'))\n",
    "stemmer = SnowballStemmer(\"english\")\n",
    "\n",
    "def limpiar_texto(texto):\n",
    "    texto = texto.lower() # ponemos en minusculas\n",
    "    tokens = word_tokenize(texto) # dividimos en palabras individuales\n",
    "    tokens = [t for t in tokens if t.isalpha()] # filtramos - solo texto\n",
    "    tokens = [t for t in tokens if t not in stop_words] # quitamos - palabras muy comunes que no aportan significado como \"el\", \"la\", \"y\"\n",
    "    tokens = [stemmer.stem(t) for t in tokens] # aplicacmos stemming - reducimos las palabras a su raíz (por ejemplo: \"jugando\" → \"jug\")\n",
    "    return \" \".join(tokens)\n",
    "\n",
    "df['texto_limpio'] = df['body'].apply(limpiar_texto)\n",
    "df[['archivo', 'texto_limpio']].head()\n"
   ]
  }
 ],
 "metadata": {
  "kernelspec": {
   "display_name": "Python 3 (ipykernel)",
   "language": "python",
   "name": "python3"
  },
  "language_info": {
   "codemirror_mode": {
    "name": "ipython",
    "version": 3
   },
   "file_extension": ".py",
   "mimetype": "text/x-python",
   "name": "python",
   "nbconvert_exporter": "python",
   "pygments_lexer": "ipython3",
   "version": "3.10.12"
  }
 },
 "nbformat": 4,
 "nbformat_minor": 5
}
